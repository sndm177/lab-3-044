{
 "cells": [
  {
   "cell_type": "code",
   "execution_count": 3,
   "id": "5e74336d",
   "metadata": {},
   "outputs": [
    {
     "name": "stdout",
     "output_type": "stream",
     "text": [
      "<class 'bool'>\n",
      "False\n",
      "True\n",
      "False\n",
      "False\n"
     ]
    }
   ],
   "source": [
    "a = True\n",
    "b = False\n",
    "#performing and operation\n",
    "print(type(b))\n",
    "print(a and b)\n",
    "print(a and a)\n",
    "print(b and b)\n",
    "print(b and a)"
   ]
  },
  {
   "cell_type": "code",
   "execution_count": 4,
   "id": "620fcaa6",
   "metadata": {},
   "outputs": [
    {
     "name": "stdout",
     "output_type": "stream",
     "text": [
      "True\n",
      "True\n",
      "True\n",
      "False\n"
     ]
    }
   ],
   "source": [
    "#performing or operation\n",
    "print(a or b)\n",
    "print(a or a)\n",
    "print(b or a)\n",
    "print(b or b)"
   ]
  },
  {
   "cell_type": "code",
   "execution_count": 5,
   "id": "25810b4d",
   "metadata": {},
   "outputs": [
    {
     "name": "stdout",
     "output_type": "stream",
     "text": [
      "False\n",
      "True\n"
     ]
    }
   ],
   "source": [
    "#not operation\n",
    "print(not a)\n",
    "print(not b)"
   ]
  },
  {
   "cell_type": "code",
   "execution_count": 8,
   "id": "92278b9e",
   "metadata": {},
   "outputs": [
    {
     "name": "stdout",
     "output_type": "stream",
     "text": [
      "False\n",
      "True\n"
     ]
    }
   ],
   "source": [
    "#declaring a variable and multiple opearations and then print\n",
    "s = a and b\n",
    "print(s)\n",
    "u = a and b or a and a or b\n",
    "print(u)"
   ]
  },
  {
   "cell_type": "code",
   "execution_count": 18,
   "id": "742c97fe",
   "metadata": {},
   "outputs": [
    {
     "name": "stdout",
     "output_type": "stream",
     "text": [
      "[0, 1, 2, 3, 4, 5, 6, 7, 8, 9, 10, 11, 12, 13, 14]\n",
      "[0, 1, 2, 3, 4, 5, 6, 7, 8, 9, 10, 11, 12, 13, 14]\n",
      "[2, 3, 4, 5, 6, 7, 8, 9, 10, 11, 12, 13, 14]\n",
      "[0, 1]\n",
      "[3, 4, 5, 6]\n",
      "[0, 1, 2, 3, 10, 6, 7, 8, 9, 10, 11, 12, 13, 14]\n"
     ]
    }
   ],
   "source": [
    "#creating and slicing list \n",
    "nums = list(range(15))\n",
    "print(nums)\n",
    "print(nums[:]) #printing all the elements of list\n",
    "print(nums[2:]) #slicing first 2 elements from the list\n",
    "print(nums[:2])\n",
    "print(nums[3:7])\n",
    "nums[4:7] = [10,6] #defining new array between 4th and 7th position\n",
    "print(nums)"
   ]
  },
  {
   "cell_type": "code",
   "execution_count": null,
   "id": "a3254761",
   "metadata": {},
   "outputs": [],
   "source": []
  }
 ],
 "metadata": {
  "kernelspec": {
   "display_name": "Python 3 (ipykernel)",
   "language": "python",
   "name": "python3"
  },
  "language_info": {
   "codemirror_mode": {
    "name": "ipython",
    "version": 3
   },
   "file_extension": ".py",
   "mimetype": "text/x-python",
   "name": "python",
   "nbconvert_exporter": "python",
   "pygments_lexer": "ipython3",
   "version": "3.9.7"
  }
 },
 "nbformat": 4,
 "nbformat_minor": 5
}
